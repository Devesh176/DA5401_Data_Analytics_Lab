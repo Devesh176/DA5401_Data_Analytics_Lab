{
 "cells": [
  {
   "cell_type": "markdown",
   "id": "ae7d2eeb",
   "metadata": {},
   "source": [
    "\n",
    "\n",
    "<h1> <b> <centre> DA5401 Assignment 6 </b> </centre> </h2>\n",
    "<h4> <b> <centre> Name: Pawar Devesh Pramod </centre></b> </h4>\n",
    "<h4> <b> <centre> Roll No: ME22B176  </centre></b> </h4>\n",
    "<h4> <b> <centre> Date of Submission 17/10/2025 </centre></b> </h4>\n"
   ]
  },
  {
   "cell_type": "markdown",
   "id": "7a4941f2",
   "metadata": {},
   "source": [
    "<h3> <b> Objective: </b> <h3> \n",
    "<p style=\"font-size: 18px;\">This assignment challenges you to apply linear and non-linear regression to impute\n",
    "missing values in a dataset. The effectiveness of your imputation methods will be measured\n",
    "indirectly by assessing the performance of a subsequent classification task, comparing the\n",
    "regression-based approach against simpler imputation strategies. </p>\n",
    "\n",
    "<h3> <b> 1. Problem Statement </b> </h3>\n",
    "<p style=\"font-size: 18 px;\">\n",
    "You are a machine learning engineer working on a credit risk assessment project. You have\n",
    "been provided with the UCI Credit Card Default Clients Dataset. This dataset has missing\n",
    "values in several important feature columns. The presence of missing data prevents the\n",
    "immediate application of many classification algorithms.\n",
    "Your task is to implement three different strategies for handling the missing data and then use\n",
    "the resulting clean datasets to train and evaluate a classification model. This will demonstrate\n",
    "how the choice of imputation technique significantly impacts final model performance.</p>\n",
    "\n",
    "<p style=\"font-size: 18px;\"> Dataset: \n",
    "- <a href=\"https://www.kaggle.com/datasets/uciml/default-of-credit-card-clients-dataset/data\">Kaggle - Credit Card\n",
    "Default Clients Dataset</a>\n",
    "</p>"
   ]
  },
  {
   "cell_type": "code",
   "execution_count": 1,
   "id": "436a873e",
   "metadata": {},
   "outputs": [
    {
     "name": "stdout",
     "output_type": "stream",
     "text": [
      "The head of dataset:     ID  LIMIT_BAL  SEX  EDUCATION  MARRIAGE  AGE  PAY_0  PAY_2  PAY_3  PAY_4  \\\n",
      "0   1    20000.0    2          2         1   24      2      2     -1     -1   \n",
      "1   2   120000.0    2          2         2   26     -1      2      0      0   \n",
      "2   3    90000.0    2          2         2   34      0      0      0      0   \n",
      "3   4    50000.0    2          2         1   37      0      0      0      0   \n",
      "4   5    50000.0    1          2         1   57     -1      0     -1      0   \n",
      "\n",
      "   ...  BILL_AMT4  BILL_AMT5  BILL_AMT6  PAY_AMT1  PAY_AMT2  PAY_AMT3  \\\n",
      "0  ...        0.0        0.0        0.0       0.0     689.0       0.0   \n",
      "1  ...     3272.0     3455.0     3261.0       0.0    1000.0    1000.0   \n",
      "2  ...    14331.0    14948.0    15549.0    1518.0    1500.0    1000.0   \n",
      "3  ...    28314.0    28959.0    29547.0    2000.0    2019.0    1200.0   \n",
      "4  ...    20940.0    19146.0    19131.0    2000.0   36681.0   10000.0   \n",
      "\n",
      "   PAY_AMT4  PAY_AMT5  PAY_AMT6  default.payment.next.month  \n",
      "0       0.0       0.0       0.0                           1  \n",
      "1    1000.0       0.0    2000.0                           1  \n",
      "2    1000.0    1000.0    5000.0                           0  \n",
      "3    1100.0    1069.0    1000.0                           0  \n",
      "4    9000.0     689.0     679.0                           0  \n",
      "\n",
      "[5 rows x 25 columns]\n",
      "Null values in the dataset:  ID                            0\n",
      "LIMIT_BAL                     0\n",
      "SEX                           0\n",
      "EDUCATION                     0\n",
      "MARRIAGE                      0\n",
      "AGE                           0\n",
      "PAY_0                         0\n",
      "PAY_2                         0\n",
      "PAY_3                         0\n",
      "PAY_4                         0\n",
      "PAY_5                         0\n",
      "PAY_6                         0\n",
      "BILL_AMT1                     0\n",
      "BILL_AMT2                     0\n",
      "BILL_AMT3                     0\n",
      "BILL_AMT4                     0\n",
      "BILL_AMT5                     0\n",
      "BILL_AMT6                     0\n",
      "PAY_AMT1                      0\n",
      "PAY_AMT2                      0\n",
      "PAY_AMT3                      0\n",
      "PAY_AMT4                      0\n",
      "PAY_AMT5                      0\n",
      "PAY_AMT6                      0\n",
      "default.payment.next.month    0\n",
      "dtype: int64\n"
     ]
    }
   ],
   "source": [
    "\"\"\" Import the dataset \"\"\"\n",
    "import pandas as pd\n",
    "\n",
    "df = pd.read_csv('UCI_Credit_Card.csv')\n",
    "print(f'The head of dataset: ', df.head())\n",
    "print(f'Null values in the dataset: ', df.isnull().sum())\n"
   ]
  },
  {
   "cell_type": "code",
   "execution_count": 2,
   "id": "4ecda30b",
   "metadata": {},
   "outputs": [
    {
     "data": {
      "text/plain": [
       "Index(['ID', 'LIMIT_BAL', 'SEX', 'EDUCATION', 'MARRIAGE', 'AGE', 'PAY_0',\n",
       "       'PAY_2', 'PAY_3', 'PAY_4', 'PAY_5', 'PAY_6', 'BILL_AMT1', 'BILL_AMT2',\n",
       "       'BILL_AMT3', 'BILL_AMT4', 'BILL_AMT5', 'BILL_AMT6', 'PAY_AMT1',\n",
       "       'PAY_AMT2', 'PAY_AMT3', 'PAY_AMT4', 'PAY_AMT5', 'PAY_AMT6',\n",
       "       'default.payment.next.month'],\n",
       "      dtype='object')"
      ]
     },
     "execution_count": 2,
     "metadata": {},
     "output_type": "execute_result"
    }
   ],
   "source": [
    "df.columns"
   ]
  },
  {
   "cell_type": "code",
   "execution_count": null,
   "id": "70f94127",
   "metadata": {},
   "outputs": [
    {
     "name": "stdout",
     "output_type": "stream",
     "text": [
      "Feature Importance Ranking:\n",
      "      Feature  Importance\n",
      "6       PAY_0    0.648343\n",
      "12  BILL_AMT1    0.395217\n",
      "19   PAY_AMT2    0.225612\n",
      "18   PAY_AMT1    0.221645\n",
      "13  BILL_AMT2    0.144948\n",
      "14  BILL_AMT3    0.113867\n",
      "7       PAY_2    0.099906\n",
      "1   LIMIT_BAL    0.099015\n",
      "8       PAY_3    0.085453\n",
      "4    MARRIAGE    0.080675\n",
      "3   EDUCATION    0.079936\n",
      "5         AGE    0.068202\n",
      "21   PAY_AMT4    0.062071\n",
      "2         SEX    0.052945\n",
      "22   PAY_AMT5    0.052129\n",
      "20   PAY_AMT3    0.046841\n",
      "10      PAY_5    0.039711\n",
      "23   PAY_AMT6    0.036208\n",
      "17  BILL_AMT6    0.031002\n",
      "9       PAY_4    0.028372\n",
      "16  BILL_AMT5    0.027348\n",
      "15  BILL_AMT4    0.014438\n",
      "0          ID    0.011555\n",
      "11      PAY_6    0.007605\n"
     ]
    }
   ],
   "source": [
    "\"\"\" Finding out which features are the most important to Logistic Regression in oreder to introduce MAR \"\"\"\n",
    "\n",
    "import pandas as pd\n",
    "import numpy as np\n",
    "from sklearn.preprocessing import StandardScaler\n",
    "from sklearn.linear_model import LogisticRegression\n",
    "\n",
    "\n",
    "# Define features X and target y\n",
    "X = df.drop('default.payment.next.month', axis=1)\n",
    "y = df['default.payment.next.month']\n",
    "\n",
    "# Scale the features before training the model\n",
    "scaler = StandardScaler()\n",
    "X_scaled = scaler.fit_transform(X)\n",
    "\n",
    "# Train a logistic regression model to get the coefficients\n",
    "model = LogisticRegression(max_iter=1000, random_state=42)\n",
    "model.fit(X_scaled, y)\n",
    "\n",
    "# Create a DataFrame of feature importances (absolute coefficients)\n",
    "feature_importance = pd.DataFrame({\n",
    "    'Feature': X.columns,\n",
    "    'Importance': np.abs(model.coef_[0])\n",
    "}).sort_values('Importance', ascending=False)\n",
    "\n",
    "print(\"Feature Importance Ranking:\")\n",
    "print(feature_importance)\n"
   ]
  },
  {
   "cell_type": "markdown",
   "id": "6dc2b44b",
   "metadata": {},
   "source": [
    "'PAY_0' and 'BILL_AMT1' are the two most important features"
   ]
  },
  {
   "cell_type": "markdown",
   "id": "df00e554",
   "metadata": {},
   "source": [
    "---"
   ]
  },
  {
   "cell_type": "markdown",
   "id": "9e0fb169",
   "metadata": {},
   "source": [
    "## Part A: Data Preprocessing and Imputation"
   ]
  },
  {
   "cell_type": "markdown",
   "id": "eb98aa57",
   "metadata": {},
   "source": [
    "### 1. Artificially Introduce MAR Missing Values\n",
    "\n",
    "To simulate a real-world scenario, we need to introduce missing data. We will introduce **Missing At Random (MAR)** values, where the probability of a value being missing depends on other observed variables.\n",
    "\n",
    "- Let's introduce approximately **8%** missing values into two numerical columns: `PAY_0` and `BILL_AMT1`.\n",
    "- The missingness in `PAY_0` will be dependent on the `EDUCATION` level.\n",
    "- The missingness in `BILL_AMT1` will be dependent on the `LIMIT_BAL`."
   ]
  },
  {
   "cell_type": "code",
   "execution_count": 3,
   "id": "50dd5385",
   "metadata": {},
   "outputs": [
    {
     "name": "stdout",
     "output_type": "stream",
     "text": [
      "Missing values after introducing MAR data:\n",
      "ID                               0\n",
      "LIMIT_BAL                        0\n",
      "SEX                              0\n",
      "EDUCATION                        0\n",
      "MARRIAGE                         0\n",
      "AGE                              0\n",
      "PAY_0                          454\n",
      "PAY_2                            0\n",
      "PAY_3                            0\n",
      "PAY_4                            0\n",
      "PAY_5                            0\n",
      "PAY_6                            0\n",
      "BILL_AMT1                     2249\n",
      "BILL_AMT2                        0\n",
      "BILL_AMT3                        0\n",
      "BILL_AMT4                        0\n",
      "BILL_AMT5                        0\n",
      "BILL_AMT6                        0\n",
      "PAY_AMT1                         0\n",
      "PAY_AMT2                         0\n",
      "PAY_AMT3                         0\n",
      "PAY_AMT4                         0\n",
      "PAY_AMT5                         0\n",
      "PAY_AMT6                         0\n",
      "default.payment.next.month       0\n",
      "dtype: int64\n"
     ]
    }
   ],
   "source": [
    "\"\"\" Intorducing MAR \"\"\"\n",
    "from sklearn.preprocessing import MinMaxScaler\n",
    "import numpy as np\n",
    "\n",
    "def introduce_mar_missing(df, target_col, predictor_col, missing_frac=0.08):\n",
    "   \n",
    "    df_mar = df.copy()\n",
    "    \n",
    "    # Scale the predictor column to create a well-behaved probability score\n",
    "    scaler = MinMaxScaler()\n",
    "    predictor_scaled = scaler.fit_transform(df_mar[[predictor_col]])\n",
    "    \n",
    "    # Create a probability based on the scaled predictor\n",
    "    # We adjust the formula to control the overall missingness rate\n",
    "    logit = predictor_scaled[:, 0] * 2.5 - 1.5 # Coefficients are tuned to get near the desired fraction\n",
    "    probabilities = 1 / (1 + np.exp(-logit))\n",
    "\n",
    "    # To precisely control the fraction, we find a threshold\n",
    "    prob_threshold = np.quantile(probabilities, 1 - missing_frac)\n",
    "    \n",
    "    # Create a mask where the probability is above the threshold\n",
    "    mask = probabilities > prob_threshold\n",
    "    \n",
    "    # Introduce NaNs\n",
    "    df_mar.loc[mask, target_col] = np.nan\n",
    "    return df_mar\n",
    "\n",
    "# Create a copy to work with\n",
    "df_mar = df.copy()\n",
    "\n",
    "# Introduce MAR values into feature_importance[0] based on 'EDUCATION'\n",
    "df_mar = introduce_mar_missing(df_mar, 'PAY_0', 'EDUCATION', missing_frac=0.08)\n",
    "\n",
    "# Introduce MAR values into feature_importance[1] based on 'LIMIT_BAL'\n",
    "df_mar = introduce_mar_missing(df_mar, 'BILL_AMT1', 'LIMIT_BAL', missing_frac=0.08)\n",
    "\n",
    "print(\"Missing values after introducing MAR data:\")\n",
    "print(df_mar.isnull().sum())"
   ]
  },
  {
   "cell_type": "markdown",
   "id": "26d6e19d",
   "metadata": {},
   "source": [
    "### 2. Imputation Strategy 1: Simple Imputation (Baseline)\n",
    "\n",
    "Our first strategy is to use median imputation. We create `Dataset A` by filling the missing values in `PAY_0` and `BILL_AMT1` with their respective column medians.\n",
    "\n",
    "**Why is the median often preferred over the mean?**\n",
    "\n",
    "The median is generally preferred for imputation in skewed distributions or datasets with outliers. The mean is sensitive to extreme values, which can pull it away from the central tendency of the majority of the data. The **median**, being the 50th percentile, is robust to outliers and often provides a more representative value for imputation in such cases."
   ]
  },
  {
   "cell_type": "code",
   "execution_count": 4,
   "id": "0778c086",
   "metadata": {},
   "outputs": [
    {
     "name": "stdout",
     "output_type": "stream",
     "text": [
      "Dataset A: Missing values after Median Imputation\n",
      "0\n"
     ]
    },
    {
     "name": "stderr",
     "output_type": "stream",
     "text": [
      "/tmp/ipykernel_6520/210390723.py:9: FutureWarning: A value is trying to be set on a copy of a DataFrame or Series through chained assignment using an inplace method.\n",
      "The behavior will change in pandas 3.0. This inplace method will never work because the intermediate object on which we are setting values always behaves as a copy.\n",
      "\n",
      "For example, when doing 'df[col].method(value, inplace=True)', try using 'df.method({col: value}, inplace=True)' or df[col] = df[col].method(value) instead, to perform the operation inplace on the original object.\n",
      "\n",
      "\n",
      "  df_A['PAY_0'].fillna(age_median, inplace=True)\n",
      "/tmp/ipykernel_6520/210390723.py:10: FutureWarning: A value is trying to be set on a copy of a DataFrame or Series through chained assignment using an inplace method.\n",
      "The behavior will change in pandas 3.0. This inplace method will never work because the intermediate object on which we are setting values always behaves as a copy.\n",
      "\n",
      "For example, when doing 'df[col].method(value, inplace=True)', try using 'df.method({col: value}, inplace=True)' or df[col] = df[col].method(value) instead, to perform the operation inplace on the original object.\n",
      "\n",
      "\n",
      "  df_A['BILL_AMT1'].fillna(bill_amt1_median, inplace=True)\n"
     ]
    }
   ],
   "source": [
    "# Create Dataset A\n",
    "df_A = df_mar.copy()\n",
    "\n",
    "# Calculate medians\n",
    "age_median = df_A['PAY_0'].median()\n",
    "bill_amt1_median = df_A['BILL_AMT1'].median()\n",
    "\n",
    "# Impute missing values\n",
    "df_A['PAY_0'].fillna(age_median, inplace=True)\n",
    "df_A['BILL_AMT1'].fillna(bill_amt1_median, inplace=True)\n",
    "\n",
    "print(\"Dataset A: Missing values after Median Imputation\")\n",
    "print(df_A.isnull().sum().sum())"
   ]
  },
  {
   "cell_type": "markdown",
   "id": "299956f8",
   "metadata": {},
   "source": [
    "### 3. Imputation Strategy 2: Regression Imputation (Linear)\n",
    "\n",
    "For `Dataset B`, we will use linear regression to predict and impute the missing values. We will still use median imputation for the `BILL_AMT1` column in this dataset, and Linear Regression for `PAY_0`.\n",
    "\n",
    "**Underlying Assumption (Missing At Random - MAR):**\n",
    "\n",
    "This method assumes that the missingness of a value can be explained by other observed variables in the dataset. By building a regression model using the non-missing features to predict the target feature, we are explicitly leveraging this assumption. The model learns the relationship between the features and the target from the complete data and uses that learned relationship to estimate the most likely values for the missing entries."
   ]
  },
  {
   "cell_type": "code",
   "execution_count": 5,
   "id": "8ec1022a",
   "metadata": {},
   "outputs": [
    {
     "name": "stderr",
     "output_type": "stream",
     "text": [
      "/tmp/ipykernel_6520/1537010391.py:7: FutureWarning: A value is trying to be set on a copy of a DataFrame or Series through chained assignment using an inplace method.\n",
      "The behavior will change in pandas 3.0. This inplace method will never work because the intermediate object on which we are setting values always behaves as a copy.\n",
      "\n",
      "For example, when doing 'df[col].method(value, inplace=True)', try using 'df.method({col: value}, inplace=True)' or df[col] = df[col].method(value) instead, to perform the operation inplace on the original object.\n",
      "\n",
      "\n",
      "  df_B['BILL_AMT1'].fillna(df_B['BILL_AMT1'].median(), inplace=True)\n"
     ]
    },
    {
     "name": "stdout",
     "output_type": "stream",
     "text": [
      "Dataset B: Missing values after Linear Regression Imputation\n",
      "0\n"
     ]
    }
   ],
   "source": [
    "from sklearn.linear_model import LinearRegression\n",
    "\n",
    "# Create Dataset B\n",
    "df_B = df_mar.copy()\n",
    "\n",
    "# First, impute 'AGE' with the median to simplify the process\n",
    "df_B['BILL_AMT1'].fillna(df_B['BILL_AMT1'].median(), inplace=True)\n",
    "\n",
    "# Impute 'BILL_AMT1' using Linear Regression \n",
    "\n",
    "# Separate the dataframe into two parts\n",
    "df_impute_train = df_B[df_B['PAY_0'].notnull()]\n",
    "df_impute_test = df_B[df_B['PAY_0'].isnull()]\n",
    "\n",
    "# Define features and target for the imputation model\n",
    "impute_features = [col for col in df_B.columns if col not in ['PAY_0', 'default_payment_next_month']]\n",
    "impute_target = 'PAY_0'\n",
    "\n",
    "X_impute_train = df_impute_train[impute_features]\n",
    "y_impute_train = df_impute_train[impute_target]\n",
    "X_impute_test = df_impute_test[impute_features]\n",
    "\n",
    "# Initialize and train the Linear Regression model\n",
    "lr_imputer = LinearRegression()\n",
    "lr_imputer.fit(X_impute_train, y_impute_train)\n",
    "\n",
    "# Predict the missing values\n",
    "predicted_bill_amt1 = lr_imputer.predict(X_impute_test)\n",
    "\n",
    "# Fill the NaNs with the predictions\n",
    "df_B.loc[df_B['PAY_0'].isnull(), 'PAY_0'] = predicted_bill_amt1\n",
    "\n",
    "print(\"Dataset B: Missing values after Linear Regression Imputation\")\n",
    "print(df_B.isnull().sum().sum()) # Should be 0"
   ]
  },
  {
   "cell_type": "markdown",
   "id": "8ab67f0e",
   "metadata": {},
   "source": [
    "### 4. Imputation Strategy 3: Regression Imputation (Non-Linear)\n",
    "\n",
    "For `Dataset C`, we use a non-linear regression model, **K-Nearest Neighbors (KNN) Regression**, to impute the missing values in `PAY_0`. KNN predicts the value of a data point by averaging the values of its 'k' nearest neighbors. This can capture more complex, non-linear relationships that a linear model might miss. Again, `BILL_AMT1` will be imputed with its median."
   ]
  },
  {
   "cell_type": "code",
   "execution_count": 6,
   "id": "1781de8a",
   "metadata": {},
   "outputs": [
    {
     "name": "stdout",
     "output_type": "stream",
     "text": [
      "Imputing 'BILL_AMT1' with its median to create a clean feature set.\n",
      "Setting up KNN Regressor to impute 'PAY_0'.\n",
      "Finding the optimal k for KNN using cross-validation\n"
     ]
    },
    {
     "name": "stderr",
     "output_type": "stream",
     "text": [
      "/tmp/ipykernel_6520/1489042181.py:14: FutureWarning: A value is trying to be set on a copy of a DataFrame or Series through chained assignment using an inplace method.\n",
      "The behavior will change in pandas 3.0. This inplace method will never work because the intermediate object on which we are setting values always behaves as a copy.\n",
      "\n",
      "For example, when doing 'df[col].method(value, inplace=True)', try using 'df.method({col: value}, inplace=True)' or df[col] = df[col].method(value) instead, to perform the operation inplace on the original object.\n",
      "\n",
      "\n",
      "  df_C['BILL_AMT1'].fillna(bill_amt1_median, inplace=True)\n"
     ]
    },
    {
     "name": "stdout",
     "output_type": "stream",
     "text": [
      "Optimal k found: 21\n",
      "\n"
     ]
    },
    {
     "data": {
      "image/png": "[encoded data removed]",
      "text/plain": [
       "<Figure size 1000x600 with 1 Axes>"
      ]
     },
     "metadata": {},
     "output_type": "display_data"
    },
    {
     "name": "stdout",
     "output_type": "stream",
     "text": [
      "Dataset C: Missing values after Non-Linear (KNN) Regression Imputation\n",
      "Total missing values remaining: 0\n"
     ]
    }
   ],
   "source": [
    "import numpy as np\n",
    "from sklearn.model_selection import KFold\n",
    "from sklearn.metrics import mean_squared_error\n",
    "import matplotlib.pyplot as plt\n",
    "from sklearn.preprocessing import StandardScaler\n",
    "from sklearn.neighbors import KNeighborsRegressor\n",
    "\n",
    "# Create a copy for this dataset\n",
    "df_C = df_mar.copy()\n",
    "\n",
    "# This makes 'BILL_AMT1' a clean predictor we can use for the next step.\n",
    "print(\"Imputing 'BILL_AMT1' with its median to create a clean feature set.\")\n",
    "bill_amt1_median = df_C['BILL_AMT1'].median()\n",
    "df_C['BILL_AMT1'].fillna(bill_amt1_median, inplace=True)\n",
    "\n",
    "\n",
    "# Now that the only remaining NaNs are in 'PAY_0', we can use KNN imputation.\n",
    "print(\"Setting up KNN Regressor to impute 'PAY_0'.\")\n",
    "impute_target = 'PAY_0' \n",
    "# All columns except our target and the final classification label\n",
    "impute_features = [col for col in df_C.columns if col not in [impute_target, 'default_payment_next_month']]\n",
    "\n",
    "# Separate the dataframe into a training set (for the imputer) and a prediction set\n",
    "df_impute_train = df_C[df_C[impute_target].notnull()]\n",
    "df_impute_predict = df_C[df_C[impute_target].isnull()]\n",
    "\n",
    "# Create the feature X and target y sets\n",
    "X_impute_train = df_impute_train[impute_features]\n",
    "y_impute_train = df_impute_train[impute_target]\n",
    "X_impute_predict = df_impute_predict[impute_features]\n",
    "\n",
    "\n",
    "# Scale the features (for KNN)\n",
    "scaler_impute = StandardScaler()\n",
    "X_impute_train_scaled = scaler_impute.fit_transform(X_impute_train)\n",
    "X_impute_predict_scaled = scaler_impute.transform(X_impute_predict)\n",
    "\n",
    "\n",
    "# Find the optimal k using cross-validation (on the training data for the imputer) \n",
    "print(\"Finding the optimal k for KNN using cross-validation\")\n",
    "k_values = range(3, 50, 2)\n",
    "k_rmses = {}\n",
    "\n",
    "for k in k_values:\n",
    "    knn_imputer_cv = KNeighborsRegressor(n_neighbors=k)\n",
    "    kf = KFold(n_splits=5, shuffle=True, random_state=42)\n",
    "    fold_rmses = []\n",
    "    for train_index, val_index in kf.split(X_impute_train_scaled):\n",
    "        X_train_cv, X_val_cv = X_impute_train_scaled[train_index], X_impute_train_scaled[val_index]\n",
    "        y_train_cv, y_val_cv = y_impute_train.iloc[train_index], y_impute_train.iloc[val_index]\n",
    "        knn_imputer_cv.fit(X_train_cv, y_train_cv)\n",
    "        y_pred_cv = knn_imputer_cv.predict(X_val_cv)\n",
    "        rmse = np.sqrt(mean_squared_error(y_val_cv, y_pred_cv))\n",
    "        fold_rmses.append(rmse)\n",
    "    k_rmses[k] = np.mean(fold_rmses)\n",
    "\n",
    "best_k = min(k_rmses, key=k_rmses.get)\n",
    "print(f\"Optimal k found: {best_k}\\n\")\n",
    "# Plot the results to visualize the optimal k\n",
    "plt.figure(figsize=(10, 6))\n",
    "plt.plot(list(k_rmses.keys()), list(k_rmses.values()), marker='o', linestyle='-')\n",
    "plt.title('KNN Imputer Performance vs. Number of Neighbors (k)')\n",
    "plt.xlabel('k (Number of Neighbors)')\n",
    "plt.ylabel('Average Root Mean Squared Error (RMSE)')\n",
    "plt.xticks(k_values)\n",
    "plt.grid(True)\n",
    "plt.show()\n",
    "\n",
    "\n",
    "final_knn_imputer = KNeighborsRegressor(n_neighbors=best_k)\n",
    "final_knn_imputer.fit(X_impute_train_scaled, y_impute_train)\n",
    "\n",
    "# Predict the missing values\n",
    "predicted_pay_0_knn = final_knn_imputer.predict(X_impute_predict_scaled)\n",
    "\n",
    "# Fill the NaNs with the predictions\n",
    "df_C.loc[df_C[impute_target].isnull(), impute_target] = predicted_pay_0_knn\n",
    "\n",
    "print(\"Dataset C: Missing values after Non-Linear (KNN) Regression Imputation\")\n",
    "print(f\"Total missing values remaining: {df_C.isnull().sum().sum()}\") # Should be 0"
   ]
  },
  {
   "cell_type": "markdown",
   "id": "bc2b151a",
   "metadata": {},
   "source": [
    "---"
   ]
  },
  {
   "cell_type": "markdown",
   "id": "8c1260ba",
   "metadata": {},
   "source": [
    "## Part B: Model Training and Performance Assessment\n",
    "\n",
    "Now we will create our fourth dataset, `Dataset D`, using listwise deletion. Then, we will train and evaluate a Logistic Regression classifier on all four prepared datasets (A, B, C, and D)."
   ]
  },
  {
   "cell_type": "code",
   "execution_count": 7,
   "id": "b8e6651f",
   "metadata": {},
   "outputs": [
    {
     "name": "stdout",
     "output_type": "stream",
     "text": [
      "Original MAR dataset shape: (30000, 25)\n",
      "Dataset D (Listwise Deletion) shape: (27328, 25)\n",
      "Number of rows dropped: 2672\n"
     ]
    }
   ],
   "source": [
    "# Create Dataset D by dropping all rows with any missing values\n",
    "df_D = df_mar.dropna().copy()\n",
    "\n",
    "print(f\"Original MAR dataset shape: {df_mar.shape}\")\n",
    "\n",
    "print(f\"Dataset D (Listwise Deletion) shape: {df_D.shape}\")\n",
    "print(f\"Number of rows dropped: {df_mar.shape[0] - df_D.shape[0]}\")"
   ]
  },
  {
   "cell_type": "code",
   "execution_count": 8,
   "id": "c74d28ab",
   "metadata": {},
   "outputs": [
    {
     "name": "stdout",
     "output_type": "stream",
     "text": [
      "Processing Model for A (Median Imputation) \n",
      "\n",
      "Classification Report for A (Median Imputation):\n",
      "\n",
      "              precision    recall  f1-score   support\n",
      "\n",
      "           0       0.82      0.97      0.89      4673\n",
      "           1       0.69      0.24      0.36      1327\n",
      "\n",
      "    accuracy                           0.81      6000\n",
      "   macro avg       0.75      0.61      0.62      6000\n",
      "weighted avg       0.79      0.81      0.77      6000\n",
      "\n",
      "*-------------------------------------------------*\n",
      "\n",
      "Processing Model for B (Linear Regression Imputation) \n",
      "\n",
      "Classification Report for B (Linear Regression Imputation):\n",
      "\n",
      "              precision    recall  f1-score   support\n",
      "\n",
      "           0       0.82      0.97      0.89      4673\n",
      "           1       0.69      0.25      0.36      1327\n",
      "\n",
      "    accuracy                           0.81      6000\n",
      "   macro avg       0.75      0.61      0.63      6000\n",
      "weighted avg       0.79      0.81      0.77      6000\n",
      "\n",
      "*-------------------------------------------------*\n",
      "\n",
      "Processing Model for C (Non-Linear KNN Imputation) \n",
      "\n",
      "Classification Report for C (Non-Linear KNN Imputation):\n",
      "\n",
      "              precision    recall  f1-score   support\n",
      "\n",
      "           0       0.82      0.97      0.89      4673\n",
      "           1       0.69      0.25      0.36      1327\n",
      "\n",
      "    accuracy                           0.81      6000\n",
      "   macro avg       0.75      0.61      0.63      6000\n",
      "weighted avg       0.79      0.81      0.77      6000\n",
      "\n",
      "*-------------------------------------------------*\n",
      "\n",
      "Processing Model for D (Listwise Deletion) \n",
      "\n",
      "Classification Report for D (Listwise Deletion):\n",
      "\n",
      "              precision    recall  f1-score   support\n",
      "\n",
      "           0       0.81      0.97      0.88      4198\n",
      "           1       0.71      0.25      0.37      1268\n",
      "\n",
      "    accuracy                           0.80      5466\n",
      "   macro avg       0.76      0.61      0.62      5466\n",
      "weighted avg       0.79      0.80      0.76      5466\n",
      "\n",
      "*-------------------------------------------------*\n",
      "\n"
     ]
    }
   ],
   "source": [
    "from sklearn.model_selection import train_test_split\n",
    "from sklearn.linear_model import LogisticRegression\n",
    "from sklearn.metrics import classification_report\n",
    "\n",
    "datasets = {\n",
    "    \"A (Median Imputation)\": df_A,\n",
    "    \"B (Linear Regression Imputation)\": df_B,\n",
    "    \"C (Non-Linear KNN Imputation)\": df_C,\n",
    "    \"D (Listwise Deletion)\": df_D\n",
    "}\n",
    "\n",
    "results = {}\n",
    "\n",
    "target_variable = 'default.payment.next.month'\n",
    "\n",
    "for name, df in datasets.items():\n",
    "    print(f\"Processing Model for {name} \")\n",
    "    \n",
    "    # Define Features (X) and Target (y)\n",
    "    X = df.drop(target_variable, axis=1)\n",
    "    y = df[target_variable]\n",
    "    \n",
    "    # Data Split\n",
    "    X_train, X_test, y_train, y_test = train_test_split(X, y, test_size=0.2, random_state=42, stratify=y)\n",
    "    \n",
    "    # Standardize Features\n",
    "    scaler = StandardScaler()\n",
    "    X_train_scaled = scaler.fit_transform(X_train)\n",
    "    X_test_scaled = scaler.transform(X_test)\n",
    "    \n",
    "    # Train Logistic Regression Classifier\n",
    "    log_reg = LogisticRegression(random_state=42, max_iter=1000)\n",
    "    log_reg.fit(X_train_scaled, y_train)\n",
    "    \n",
    "    # Evaluate Performance\n",
    "    y_pred = log_reg.predict(X_test_scaled)\n",
    "    \n",
    "    print(f\"\\nClassification Report for {name}:\\n\")\n",
    "    print(classification_report(y_test, y_pred))\n",
    "    \n",
    "    # Store the F1-score for the positive class (1 = default)\n",
    "    report = classification_report(y_test, y_pred, output_dict=True)\n",
    "    results[name] = {\n",
    "        'Accuracy': report['accuracy'],\n",
    "        'Precision (1)': report['1']['precision'],\n",
    "        'Recall (1)': report['1']['recall'],\n",
    "        'F1-Score (1)': report['1']['f1-score']\n",
    "    }\n",
    "    print(\"*-------------------------------------------------*\\n\")"
   ]
  },
  {
   "cell_type": "markdown",
   "id": "cba2cc05",
   "metadata": {},
   "source": [
    "---"
   ]
  },
  {
   "cell_type": "markdown",
   "id": "394f6d6a",
   "metadata": {},
   "source": [
    "## Part C: Comparative Analysis"
   ]
  },
  {
   "cell_type": "markdown",
   "id": "39b183be",
   "metadata": {},
   "source": [
    "### 1. Results Comparison\n",
    "\n",
    "Summary of the performance metrics of the four models in a table to facilitate comparison. We focus on the F1-score for the positive class (default = 1), as it provides a balanced measure of precision and recall, which is crucial for imbalanced classification problems like credit default prediction."
   ]
  },
  {
   "cell_type": "code",
   "execution_count": 10,
   "id": "d7320ba4",
   "metadata": {},
   "outputs": [
    {
     "data": {
      "text/html": [
       "<div>\n",
       "<style scoped>\n",
       "    .dataframe tbody tr th:only-of-type {\n",
       "        vertical-align: middle;\n",
       "    }\n",
       "\n",
       "    .dataframe tbody tr th {\n",
       "        vertical-align: top;\n",
       "    }\n",
       "\n",
       "    .dataframe thead th {\n",
       "        text-align: right;\n",
       "    }\n",
       "</style>\n",
       "<table border=\"1\" class=\"dataframe\">\n",
       "  <thead>\n",
       "    <tr style=\"text-align: right;\">\n",
       "      <th></th>\n",
       "      <th>Accuracy</th>\n",
       "      <th>Precision (1)</th>\n",
       "      <th>Recall (1)</th>\n",
       "      <th>F1-Score (1)</th>\n",
       "    </tr>\n",
       "  </thead>\n",
       "  <tbody>\n",
       "    <tr>\n",
       "      <th>A (Median Imputation)</th>\n",
       "      <td>0.808167</td>\n",
       "      <td>0.686441</td>\n",
       "      <td>0.244160</td>\n",
       "      <td>0.360200</td>\n",
       "    </tr>\n",
       "    <tr>\n",
       "      <th>B (Linear Regression Imputation)</th>\n",
       "      <td>0.808500</td>\n",
       "      <td>0.686975</td>\n",
       "      <td>0.246420</td>\n",
       "      <td>0.362729</td>\n",
       "    </tr>\n",
       "    <tr>\n",
       "      <th>C (Non-Linear KNN Imputation)</th>\n",
       "      <td>0.808833</td>\n",
       "      <td>0.688285</td>\n",
       "      <td>0.247928</td>\n",
       "      <td>0.364543</td>\n",
       "    </tr>\n",
       "    <tr>\n",
       "      <th>D (Listwise Deletion)</th>\n",
       "      <td>0.801866</td>\n",
       "      <td>0.710706</td>\n",
       "      <td>0.246057</td>\n",
       "      <td>0.365554</td>\n",
       "    </tr>\n",
       "  </tbody>\n",
       "</table>\n",
       "</div>"
      ],
      "text/plain": [
       "                                  Accuracy  Precision (1)  Recall (1)  \\\n",
       "A (Median Imputation)             0.808167       0.686441    0.244160   \n",
       "B (Linear Regression Imputation)  0.808500       0.686975    0.246420   \n",
       "C (Non-Linear KNN Imputation)     0.808833       0.688285    0.247928   \n",
       "D (Listwise Deletion)             0.801866       0.710706    0.246057   \n",
       "\n",
       "                                  F1-Score (1)  \n",
       "A (Median Imputation)                 0.360200  \n",
       "B (Linear Regression Imputation)      0.362729  \n",
       "C (Non-Linear KNN Imputation)         0.364543  \n",
       "D (Listwise Deletion)                 0.365554  "
      ]
     },
     "execution_count": 10,
     "metadata": {},
     "output_type": "execute_result"
    }
   ],
   "source": [
    "import matplotlib.pyplot as plt\n",
    "import seaborn as sns\n",
    "# Set plot style\n",
    "sns.set_style('whitegrid')\n",
    "\n",
    "results_df = pd.DataFrame(results).T # Transpose to get models as rows\n",
    "results_df = results_df[['Accuracy', 'Precision (1)', 'Recall (1)', 'F1-Score (1)']]\n",
    "results_df\n"
   ]
  },
  {
   "cell_type": "markdown",
   "id": "367bf426",
   "metadata": {},
   "source": [
    "### 2. Efficacy Discussion\n",
    "\n",
    "#### i. Trade-off Between Listwise Deletion and Imputation\n",
    "\n",
    "The primary trade-off is between the simplicity of listwise deletion and the data preservation offered by imputation. Models A, B, and C (imputation methods) retained the entire test set size of 6,000 samples, preserving the maximum amount of information for training. In contrast, Model D (listwise deletion) discarded a significant number of observations, resulting in a smaller test set of 5,466.\n",
    "\n",
    "Interestingly, Model D achieved the highest F1-score for the positive class (0.37), giving it a marginal edge in balancing precision and recall for predicting defaults. This could suggest that the deleted rows contained noisy or ambiguous information, and their removal inadvertently created a \"cleaner\" training set. However, this slight performance gain came at the cost of a lower overall accuracy (0.80 vs. 0.81) and introduces a significant risk: the model wasn't trained on the full data distribution and may not generalize well to the sub-population that was removed.\n",
    "\n",
    "#### ii. Linear vs. Non-Linear Regression Performance\n",
    "\n",
    "When comparing the model-based imputation strategies, the performance difference was negligible. Model B (Linear Regression) and Model C (Non-Linear KNN) both produced a final F1-score of 0.36.\n",
    "\n",
    "However, a closer look reveals a subtle difference: Model C (KNN) achieved a slightly higher recall (0.25) compared to Model B (0.24). This indicates the non-linear method was marginally better at identifying true default cases. This minor improvement in recall did not translate to a higher F1-score, likely due to a slight trade-off with precision. The near-identical results suggest two possibilities:\n",
    "\n",
    "- The relationships between the features were simple enough that a linear model was sufficient for imputation.\n",
    "\n",
    "- The imputed features themselves had a limited impact on the final classification, so the nuances between imputation methods did not significantly alter the outcome.\n",
    "\n",
    "#### iii. Concluding Recommendation\n",
    "\n",
    "Based on a holistic analysis of performance, efficiency, and robustness, a clear recommendation emerges.\n",
    "\n",
    "**Recommendation:** The best strategy for handling missing data in this scenario is Median Imputation (Model A).\n",
    "\n",
    "**Justification:**\n",
    "\n",
    "- Performance Parity: Median imputation achieved an F1-score of 0.36, identical to the more computationally expensive regression-based methods. It provides top-tier performance without added complexity.\n",
    "\n",
    "- Computational Efficiency: It is far simpler and faster to implement than training separate regression models for imputation. This makes it a highly practical and pragmatic choice for production environments.\n",
    "\n",
    "- Robustness and Safety: Unlike listwise deletion, it preserves the entire dataset, avoiding the potential for sampling bias and ensuring the model is trained on all available information. It provides a safe and reliable approach that doesn't risk discarding valuable data for a negligible and potentially misleading performance gain."
   ]
  }
 ],
 "metadata": {
  "kernelspec": {
   "display_name": "DA5401",
   "language": "python",
   "name": "python3"
  },
  "language_info": {
   "codemirror_mode": {
    "name": "ipython",
    "version": 3
   },
   "file_extension": ".py",
   "mimetype": "text/x-python",
   "name": "python",
   "nbconvert_exporter": "python",
   "pygments_lexer": "ipython3",
   "version": "3.9.23"
  }
 },
 "nbformat": 4,
 "nbformat_minor": 5
}
